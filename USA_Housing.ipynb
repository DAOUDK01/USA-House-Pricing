{
 "cells": [
  {
   "cell_type": "markdown",
   "id": "794dd834-2071-486a-8d3f-c7ad92f32109",
   "metadata": {},
   "source": [
    "## Importing Data"
   ]
  },
  {
   "cell_type": "code",
   "execution_count": 1,
   "id": "4bb3c048-1da2-49ca-bbf7-488493227f02",
   "metadata": {},
   "outputs": [],
   "source": [
    "import pandas as pd"
   ]
  },
  {
   "cell_type": "code",
   "execution_count": 2,
   "id": "a9ab7c19-b7ae-4ea7-9491-87b7faa9578c",
   "metadata": {},
   "outputs": [],
   "source": [
    "df= pd.read_csv('https://raw.githubusercontent.com/huzaifsayed/Linear-Regression-Model-for-House-Price-Prediction/master/USA_Housing.csv')"
   ]
  },
  {
   "cell_type": "code",
   "execution_count": 3,
   "id": "f046a438-ae4e-44d8-8502-5e47a0a12af4",
   "metadata": {},
   "outputs": [
    {
     "data": {
      "text/html": [
       "<div>\n",
       "<style scoped>\n",
       "    .dataframe tbody tr th:only-of-type {\n",
       "        vertical-align: middle;\n",
       "    }\n",
       "\n",
       "    .dataframe tbody tr th {\n",
       "        vertical-align: top;\n",
       "    }\n",
       "\n",
       "    .dataframe thead th {\n",
       "        text-align: right;\n",
       "    }\n",
       "</style>\n",
       "<table border=\"1\" class=\"dataframe\">\n",
       "  <thead>\n",
       "    <tr style=\"text-align: right;\">\n",
       "      <th></th>\n",
       "      <th>Avg. Area Income</th>\n",
       "      <th>Avg. Area House Age</th>\n",
       "      <th>Avg. Area Number of Rooms</th>\n",
       "      <th>Avg. Area Number of Bedrooms</th>\n",
       "      <th>Area Population</th>\n",
       "      <th>Price</th>\n",
       "      <th>Address</th>\n",
       "    </tr>\n",
       "  </thead>\n",
       "  <tbody>\n",
       "    <tr>\n",
       "      <th>0</th>\n",
       "      <td>79545.458574</td>\n",
       "      <td>5.682861</td>\n",
       "      <td>7.009188</td>\n",
       "      <td>4.09</td>\n",
       "      <td>23086.800503</td>\n",
       "      <td>1.059034e+06</td>\n",
       "      <td>208 Michael Ferry Apt. 674\\nLaurabury, NE 3701...</td>\n",
       "    </tr>\n",
       "    <tr>\n",
       "      <th>1</th>\n",
       "      <td>79248.642455</td>\n",
       "      <td>6.002900</td>\n",
       "      <td>6.730821</td>\n",
       "      <td>3.09</td>\n",
       "      <td>40173.072174</td>\n",
       "      <td>1.505891e+06</td>\n",
       "      <td>188 Johnson Views Suite 079\\nLake Kathleen, CA...</td>\n",
       "    </tr>\n",
       "    <tr>\n",
       "      <th>2</th>\n",
       "      <td>61287.067179</td>\n",
       "      <td>5.865890</td>\n",
       "      <td>8.512727</td>\n",
       "      <td>5.13</td>\n",
       "      <td>36882.159400</td>\n",
       "      <td>1.058988e+06</td>\n",
       "      <td>9127 Elizabeth Stravenue\\nDanieltown, WI 06482...</td>\n",
       "    </tr>\n",
       "  </tbody>\n",
       "</table>\n",
       "</div>"
      ],
      "text/plain": [
       "   Avg. Area Income  Avg. Area House Age  Avg. Area Number of Rooms  \\\n",
       "0      79545.458574             5.682861                   7.009188   \n",
       "1      79248.642455             6.002900                   6.730821   \n",
       "2      61287.067179             5.865890                   8.512727   \n",
       "\n",
       "   Avg. Area Number of Bedrooms  Area Population         Price  \\\n",
       "0                          4.09     23086.800503  1.059034e+06   \n",
       "1                          3.09     40173.072174  1.505891e+06   \n",
       "2                          5.13     36882.159400  1.058988e+06   \n",
       "\n",
       "                                             Address  \n",
       "0  208 Michael Ferry Apt. 674\\nLaurabury, NE 3701...  \n",
       "1  188 Johnson Views Suite 079\\nLake Kathleen, CA...  \n",
       "2  9127 Elizabeth Stravenue\\nDanieltown, WI 06482...  "
      ]
     },
     "execution_count": 3,
     "metadata": {},
     "output_type": "execute_result"
    }
   ],
   "source": [
    "df.head(3)"
   ]
  },
  {
   "cell_type": "code",
   "execution_count": 4,
   "id": "e85c5538-bc1e-4a09-a850-75ecb139a301",
   "metadata": {},
   "outputs": [],
   "source": [
    "y= df['Price']\n",
    "X = df[['Avg. Area Income', 'Avg. Area House Age', 'Avg. Area Number of Rooms',\n",
    "               'Avg. Area Number of Bedrooms', 'Area Population']]"
   ]
  },
  {
   "cell_type": "markdown",
   "id": "82d84db6-e917-46d9-ae2f-4bb20d58546c",
   "metadata": {},
   "source": [
    "## Splitting  train and test Data "
   ]
  },
  {
   "cell_type": "code",
   "execution_count": 5,
   "id": "4568d24d-9a71-4b8a-885d-d27f45906f82",
   "metadata": {},
   "outputs": [],
   "source": [
    "from sklearn.model_selection import train_test_split"
   ]
  },
  {
   "cell_type": "code",
   "execution_count": 6,
   "id": "d6f72d6e-82bf-4959-8570-d2e6be1051ab",
   "metadata": {},
   "outputs": [],
   "source": [
    "X_train, X_test, y_train, y_test = train_test_split(X,y, test_size=0.2)"
   ]
  },
  {
   "cell_type": "markdown",
   "id": "b011eb60-5621-4712-82d8-b9c560bd4cba",
   "metadata": {},
   "source": [
    "## Creating Model and fitting Data"
   ]
  },
  {
   "cell_type": "code",
   "execution_count": 7,
   "id": "f4b9347c-60b5-4f65-be74-9cd2331f74f1",
   "metadata": {},
   "outputs": [],
   "source": [
    "from sklearn.linear_model import LinearRegression"
   ]
  },
  {
   "cell_type": "code",
   "execution_count": 8,
   "id": "d0799084-ca4c-4a10-a036-5a10492cdf19",
   "metadata": {},
   "outputs": [],
   "source": [
    "lr = LinearRegression()"
   ]
  },
  {
   "cell_type": "code",
   "execution_count": 9,
   "id": "9abbffcb-5786-4378-82c5-0907615ba951",
   "metadata": {},
   "outputs": [],
   "source": [
    "model_train= lr.fit(X_train,y_train)\n",
    "model_test= lr.fit(X_test,y_test)"
   ]
  },
  {
   "cell_type": "code",
   "execution_count": 10,
   "id": "f3918bfc-df34-499b-9296-1482980ac3f0",
   "metadata": {},
   "outputs": [],
   "source": [
    "y_hat_train = model_train.predict(X_train)\n"
   ]
  },
  {
   "cell_type": "code",
   "execution_count": 11,
   "id": "f7614f98-5a56-41e8-9470-60f509358913",
   "metadata": {},
   "outputs": [],
   "source": [
    "y_hat_test = model_train.predict(X_test)\n"
   ]
  },
  {
   "cell_type": "code",
   "execution_count": 12,
   "id": "9b6c9af9-7e0c-453c-a1a9-39dab2bd912d",
   "metadata": {},
   "outputs": [
    {
     "data": {
      "text/plain": [
       "array([2.16269946e+01, 1.63408119e+05, 1.19434472e+05, 3.11524812e+03,\n",
       "       1.50149681e+01])"
      ]
     },
     "execution_count": 12,
     "metadata": {},
     "output_type": "execute_result"
    }
   ],
   "source": [
    "model_train.coef_"
   ]
  },
  {
   "cell_type": "code",
   "execution_count": 13,
   "id": "3b35a147-d999-4ffa-875a-1e3f3c48e4a7",
   "metadata": {},
   "outputs": [
    {
     "data": {
      "text/plain": [
       "np.float64(-2621895.554204804)"
      ]
     },
     "execution_count": 13,
     "metadata": {},
     "output_type": "execute_result"
    }
   ],
   "source": [
    "model_train.intercept_"
   ]
  },
  {
   "cell_type": "code",
   "execution_count": 14,
   "id": "dc398d20-d328-4a49-94f6-00ed0b4d1b53",
   "metadata": {},
   "outputs": [
    {
     "name": "stdout",
     "output_type": "stream",
     "text": [
      "[8706939.20489085]\n"
     ]
    },
    {
     "name": "stderr",
     "output_type": "stream",
     "text": [
      "C:\\Users\\daudk\\AppData\\Local\\Programs\\Python\\Python312\\Lib\\site-packages\\sklearn\\base.py:493: UserWarning: X does not have valid feature names, but LinearRegression was fitted with feature names\n",
      "  warnings.warn(\n"
     ]
    }
   ],
   "source": [
    "import numpy as np\n",
    "X_predict = np.array([[423232, 6, 7, 4, 23086.800503]])\n",
    "prediction = model_train.predict(X_predict)\n",
    "print(prediction)"
   ]
  },
  {
   "cell_type": "markdown",
   "id": "8e6757d4-decb-4369-af32-60e5fa8707c3",
   "metadata": {},
   "source": [
    "##  Applying  Mean Squared Error and R2 Score"
   ]
  },
  {
   "cell_type": "code",
   "execution_count": 15,
   "id": "5beab22b-75d6-49c7-a741-3ba94816e614",
   "metadata": {},
   "outputs": [],
   "source": [
    "from sklearn.metrics import mean_squared_error, r2_score"
   ]
  },
  {
   "cell_type": "code",
   "execution_count": 16,
   "id": "de8fa193-9261-4d63-90ba-492909833991",
   "metadata": {},
   "outputs": [],
   "source": [
    "# for trainning features \n",
    "mse_train = mean_squared_error(y_train, y_hat_train)\n",
    "r2_train = r2_score(y_train, y_hat_train)\n"
   ]
  },
  {
   "cell_type": "code",
   "execution_count": 17,
   "id": "637fbee7-8d13-4dff-87b8-85c199f790f9",
   "metadata": {},
   "outputs": [],
   "source": [
    "# for testing features \n",
    "mse_test = mean_squared_error(y_test, y_hat_test)\n",
    "r2_test = r2_score(y_test, y_hat_test)\n"
   ]
  },
  {
   "cell_type": "code",
   "execution_count": 18,
   "id": "f654e28a-2c0e-4984-b724-a3aa48344d1c",
   "metadata": {},
   "outputs": [],
   "source": [
    " # Function to convert values to float\n",
    "def convert(num):\n",
    "    value= float(num)\n",
    "    return value"
   ]
  },
  {
   "cell_type": "code",
   "execution_count": 19,
   "id": "a79293d8-799b-48fa-9a76-74cfc08b28a9",
   "metadata": {},
   "outputs": [
    {
     "name": "stdout",
     "output_type": "stream",
     "text": [
      "MSE Train 10330442300.793333\n",
      "R2 Train 0.9178135026614909\n"
     ]
    }
   ],
   "source": [
    "print ('MSE Train', convert(mse_train) )\n",
    "print ('R2 Train', convert(r2_train) )\n"
   ]
  },
  {
   "cell_type": "code",
   "execution_count": 20,
   "id": "0458b930-76df-430d-a4b3-f353f3b82490",
   "metadata": {},
   "outputs": [
    {
     "name": "stdout",
     "output_type": "stream",
     "text": [
      "MSE Test 9913841580.996483\n",
      "R2 Test 0.9177635994407403\n"
     ]
    }
   ],
   "source": [
    "print ('MSE Test', convert(mse_test) )\n",
    "print ('R2 Test', convert(r2_test) )"
   ]
  },
  {
   "cell_type": "markdown",
   "id": "07784a79-331b-4f4b-81af-da5f247690db",
   "metadata": {},
   "source": [
    "## Mean Absolute Error , Mean Squared Error , r2"
   ]
  },
  {
   "cell_type": "code",
   "execution_count": 30,
   "id": "64a19651-064e-4fba-b3e5-92b8161b5c51",
   "metadata": {},
   "outputs": [
    {
     "name": "stdout",
     "output_type": "stream",
     "text": [
      "MAE: 80771.72013104451\n",
      "MSE: 9913841580.996483\n",
      "RMSE: 99568.27597682146\n"
     ]
    }
   ],
   "source": [
    "from sklearn import metrics\n",
    "print('MAE:', metrics.mean_absolute_error(y_test, y_hat_test))\n",
    "print('MSE:', metrics.mean_squared_error(y_test, y_hat_test))\n",
    "print('RMSE:', np.sqrt(metrics.mean_squared_error(y_test, y_hat_test)))"
   ]
  },
  {
   "cell_type": "code",
   "execution_count": 21,
   "id": "11b93426-9d61-4d8d-9ed7-8df116fa7adf",
   "metadata": {},
   "outputs": [
    {
     "data": {
      "text/html": [
       "<div>\n",
       "<style scoped>\n",
       "    .dataframe tbody tr th:only-of-type {\n",
       "        vertical-align: middle;\n",
       "    }\n",
       "\n",
       "    .dataframe tbody tr th {\n",
       "        vertical-align: top;\n",
       "    }\n",
       "\n",
       "    .dataframe thead th {\n",
       "        text-align: right;\n",
       "    }\n",
       "</style>\n",
       "<table border=\"1\" class=\"dataframe\">\n",
       "  <thead>\n",
       "    <tr style=\"text-align: right;\">\n",
       "      <th></th>\n",
       "      <th>Coefficient</th>\n",
       "    </tr>\n",
       "  </thead>\n",
       "  <tbody>\n",
       "    <tr>\n",
       "      <th>Avg. Area Income</th>\n",
       "      <td>21.626995</td>\n",
       "    </tr>\n",
       "    <tr>\n",
       "      <th>Avg. Area House Age</th>\n",
       "      <td>163408.118764</td>\n",
       "    </tr>\n",
       "    <tr>\n",
       "      <th>Avg. Area Number of Rooms</th>\n",
       "      <td>119434.472390</td>\n",
       "    </tr>\n",
       "    <tr>\n",
       "      <th>Avg. Area Number of Bedrooms</th>\n",
       "      <td>3115.248120</td>\n",
       "    </tr>\n",
       "    <tr>\n",
       "      <th>Area Population</th>\n",
       "      <td>15.014968</td>\n",
       "    </tr>\n",
       "  </tbody>\n",
       "</table>\n",
       "</div>"
      ],
      "text/plain": [
       "                                Coefficient\n",
       "Avg. Area Income                  21.626995\n",
       "Avg. Area House Age           163408.118764\n",
       "Avg. Area Number of Rooms     119434.472390\n",
       "Avg. Area Number of Bedrooms    3115.248120\n",
       "Area Population                   15.014968"
      ]
     },
     "execution_count": 21,
     "metadata": {},
     "output_type": "execute_result"
    }
   ],
   "source": [
    "coeff_df = pd.DataFrame(lr.coef_,X.columns,columns=['Coefficient'])\n",
    "coeff_df"
   ]
  },
  {
   "cell_type": "markdown",
   "id": "5630957b-a13a-4d0d-9b32-10af4bc524fd",
   "metadata": {},
   "source": [
    "## Vitualizing Data"
   ]
  },
  {
   "cell_type": "code",
   "execution_count": 22,
   "id": "ea3606fe-0d85-4f05-8534-03d4697a6605",
   "metadata": {},
   "outputs": [],
   "source": [
    "import matplotlib.pyplot as plt\n"
   ]
  },
  {
   "cell_type": "code",
   "execution_count": 27,
   "id": "d1dc39e7-a190-4606-972d-70ebef1f3e2b",
   "metadata": {},
   "outputs": [
    {
     "data": {
      "text/plain": [
       "<matplotlib.collections.PathCollection at 0x246ac939160>"
      ]
     },
     "execution_count": 27,
     "metadata": {},
     "output_type": "execute_result"
    },
    {
     "data": {
      "image/png": "[encoded data removed]",
      "text/plain": [
       "<Figure size 640x480 with 1 Axes>"
      ]
     },
     "metadata": {},
     "output_type": "display_data"
    }
   ],
   "source": [
    "plt.scatter(y_test,y_hat_test)\n"
   ]
  },
  {
   "cell_type": "raw",
   "id": "ce7518cb-cf5f-4649-94aa-eabc74c02457",
   "metadata": {},
   "source": [
    " above graph show our model is predicting data accorectly "
   ]
  },
  {
   "cell_type": "code",
   "execution_count": null,
   "id": "b6a7adfa-b304-4297-83de-b6e92e2b8f18",
   "metadata": {},
   "outputs": [],
   "source": []
  }
 ],
 "metadata": {
  "kernelspec": {
   "display_name": "Python 3 (ipykernel)",
   "language": "python",
   "name": "python3"
  },
  "language_info": {
   "codemirror_mode": {
    "name": "ipython",
    "version": 3
   },
   "file_extension": ".py",
   "mimetype": "text/x-python",
   "name": "python",
   "nbconvert_exporter": "python",
   "pygments_lexer": "ipython3",
   "version": "3.12.5"
  }
 },
 "nbformat": 4,
 "nbformat_minor": 5
}
